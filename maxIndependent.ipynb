{
 "cells": [
  {
   "cell_type": "markdown",
   "id": "a9f8a1b1",
   "metadata": {},
   "source": [
    "Input"
   ]
  },
  {
   "cell_type": "code",
   "execution_count": 1,
   "id": "bfd09106",
   "metadata": {},
   "outputs": [],
   "source": [
    "input_data = [\n",
    "        \"11\",\n",
    "        \"0 15\",\n",
    "        \"1 8\",\n",
    "        \"1 16\",\n",
    "        \"1 18\",\n",
    "        \"2 3\",\n",
    "        \"2 5\",\n",
    "        \"2 5\",\n",
    "        \"3 7\",\n",
    "        \"4 2\",\n",
    "        \"4 9\",\n",
    "        \"6 4\",\n",
    "    ]"
   ]
  },
  {
   "cell_type": "markdown",
   "id": "7e9b1b66",
   "metadata": {},
   "source": [
    "Initialize: Number of nodes, weight for each nodes and a tree structure"
   ]
  },
  {
   "cell_type": "code",
   "execution_count": 2,
   "id": "6db58a5e",
   "metadata": {},
   "outputs": [
    {
     "data": {
      "text/plain": [
       "(11,\n",
       " [0, 0, 0, 0, 0, 0, 0, 0, 0, 0, 0, 0],\n",
       " [[], [], [], [], [], [], [], [], [], [], [], []])"
      ]
     },
     "execution_count": 2,
     "metadata": {},
     "output_type": "execute_result"
    }
   ],
   "source": [
    "n = int(input_data[0])\n",
    "weight = [0] * (n + 1) #store weights in node\n",
    "tree = [[] for _ in range(n + 1)] #creating a tree structure\n",
    "\n",
    "n, weight, tree"
   ]
  },
  {
   "cell_type": "markdown",
   "id": "ff8f6c10",
   "metadata": {},
   "source": [
    "Build Tree"
   ]
  },
  {
   "cell_type": "code",
   "execution_count": 3,
   "id": "d855e53e",
   "metadata": {},
   "outputs": [
    {
     "name": "stdout",
     "output_type": "stream",
     "text": [
      "0 15\n",
      "1 8\n",
      "[[], [2], [], [], [], [], [], [], [], [], [], []]\n",
      "1 16\n",
      "[[], [2, 3], [], [], [], [], [], [], [], [], [], []]\n",
      "1 18\n",
      "[[], [2, 3, 4], [], [], [], [], [], [], [], [], [], []]\n",
      "2 3\n",
      "[[], [2, 3, 4], [5], [], [], [], [], [], [], [], [], []]\n",
      "2 5\n",
      "[[], [2, 3, 4], [5, 6], [], [], [], [], [], [], [], [], []]\n",
      "2 5\n",
      "[[], [2, 3, 4], [5, 6, 7], [], [], [], [], [], [], [], [], []]\n",
      "3 7\n",
      "[[], [2, 3, 4], [5, 6, 7], [8], [], [], [], [], [], [], [], []]\n",
      "4 2\n",
      "[[], [2, 3, 4], [5, 6, 7], [8], [9], [], [], [], [], [], [], []]\n",
      "4 9\n",
      "[[], [2, 3, 4], [5, 6, 7], [8], [9, 10], [], [], [], [], [], [], []]\n",
      "6 4\n",
      "[[], [2, 3, 4], [5, 6, 7], [8], [9, 10], [], [11], [], [], [], [], []]\n"
     ]
    }
   ],
   "source": [
    "for i in range(1, n + 1):\n",
    "       p, w = map(int, input_data[i].split())\n",
    "       print(p,w)\n",
    "       weight[i] = w\n",
    "       if p != 0:\n",
    "           tree[p].append(i)\n",
    "           print(tree)"
   ]
  },
  {
   "cell_type": "markdown",
   "id": "29c2f94a",
   "metadata": {},
   "source": [
    "Initialize dp for each node : each dp[i] = [exclude_weight, include_weight]"
   ]
  },
  {
   "cell_type": "code",
   "execution_count": 4,
   "id": "4818db0c",
   "metadata": {},
   "outputs": [
    {
     "data": {
      "text/plain": [
       "[[0, 0],\n",
       " [0, 0],\n",
       " [0, 0],\n",
       " [0, 0],\n",
       " [0, 0],\n",
       " [0, 0],\n",
       " [0, 0],\n",
       " [0, 0],\n",
       " [0, 0],\n",
       " [0, 0],\n",
       " [0, 0],\n",
       " [0, 0]]"
      ]
     },
     "execution_count": 4,
     "metadata": {},
     "output_type": "execute_result"
    }
   ],
   "source": [
    "dp = [[0, 0] for _ in range(n + 1)] \n",
    "dp"
   ]
  },
  {
   "cell_type": "markdown",
   "id": "1558a1d6",
   "metadata": {},
   "source": [
    "Using DFS Traversal to update each each dp[i] using bottom up approach, from leaf to the root node"
   ]
  },
  {
   "cell_type": "code",
   "execution_count": 5,
   "id": "8c283cfc",
   "metadata": {},
   "outputs": [],
   "source": [
    "def dfs(u):\n",
    "        dp[u][1] = weight[u]\n",
    "\n",
    "        for v in tree[u]: #for every child of u\n",
    "            dfs(v)\n",
    "            dp[u][0] += max(dp[v][0], dp[v][1])\n",
    "            dp[u][1] += dp[v][0]"
   ]
  },
  {
   "cell_type": "markdown",
   "id": "e1b80703",
   "metadata": {},
   "source": [
    "Finally start exploring the entire tree, calculating dp values at each nodes starting from the bottom all the way up to the root"
   ]
  },
  {
   "cell_type": "code",
   "execution_count": 6,
   "id": "39214922",
   "metadata": {},
   "outputs": [],
   "source": [
    "dfs(1)"
   ]
  },
  {
   "cell_type": "code",
   "execution_count": 7,
   "id": "eaf68387",
   "metadata": {},
   "outputs": [
    {
     "name": "stdout",
     "output_type": "stream",
     "text": [
      "Maximum-Weight Independent Set: 47\n"
     ]
    }
   ],
   "source": [
    "print(\"Maximum-Weight Independent Set:\", max(dp[1][0], dp[1][1]))"
   ]
  }
 ],
 "metadata": {
  "kernelspec": {
   "display_name": "Python 3",
   "language": "python",
   "name": "python3"
  },
  "language_info": {
   "codemirror_mode": {
    "name": "ipython",
    "version": 3
   },
   "file_extension": ".py",
   "mimetype": "text/x-python",
   "name": "python",
   "nbconvert_exporter": "python",
   "pygments_lexer": "ipython3",
   "version": "3.12.5"
  }
 },
 "nbformat": 4,
 "nbformat_minor": 5
}
